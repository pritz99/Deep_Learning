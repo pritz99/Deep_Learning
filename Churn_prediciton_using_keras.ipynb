{
 "cells": [
  {
   "cell_type": "code",
   "execution_count": 1,
   "id": "2720cad3",
   "metadata": {
    "_cell_guid": "b1076dfc-b9ad-4769-8c92-a6c4dae69d19",
    "_uuid": "8f2839f25d086af736a60e9eeb907d3b93b6e0e5",
    "execution": {
     "iopub.execute_input": "2025-07-26T04:44:08.132102Z",
     "iopub.status.busy": "2025-07-26T04:44:08.131790Z",
     "iopub.status.idle": "2025-07-26T04:44:09.956473Z",
     "shell.execute_reply": "2025-07-26T04:44:09.955403Z"
    },
    "papermill": {
     "duration": 1.833644,
     "end_time": "2025-07-26T04:44:09.958139",
     "exception": false,
     "start_time": "2025-07-26T04:44:08.124495",
     "status": "completed"
    },
    "tags": []
   },
   "outputs": [
    {
     "name": "stdout",
     "output_type": "stream",
     "text": [
      "/kaggle/input/churn-modelling/Churn_Modelling.csv\n"
     ]
    }
   ],
   "source": [
    "# This Python 3 environment comes with many helpful analytics libraries installed\n",
    "# It is defined by the kaggle/python Docker image: https://github.com/kaggle/docker-python\n",
    "# For example, here's several helpful packages to load\n",
    "\n",
    "import numpy as np # linear algebra\n",
    "import pandas as pd # data processing, CSV file I/O (e.g. pd.read_csv)\n",
    "\n",
    "# Input data files are available in the read-only \"../input/\" directory\n",
    "# For example, running this (by clicking run or pressing Shift+Enter) will list all files under the input directory\n",
    "\n",
    "import os\n",
    "for dirname, _, filenames in os.walk('/kaggle/input'):\n",
    "    for filename in filenames:\n",
    "        print(os.path.join(dirname, filename))\n",
    "\n",
    "# You can write up to 20GB to the current directory (/kaggle/working/) that gets preserved as output when you create a version using \"Save & Run All\" \n",
    "# You can also write temporary files to /kaggle/temp/, but they won't be saved outside of the current session"
   ]
  },
  {
   "cell_type": "code",
   "execution_count": 2,
   "id": "d1353563",
   "metadata": {
    "execution": {
     "iopub.execute_input": "2025-07-26T04:44:09.971152Z",
     "iopub.status.busy": "2025-07-26T04:44:09.970692Z",
     "iopub.status.idle": "2025-07-26T04:44:10.629682Z",
     "shell.execute_reply": "2025-07-26T04:44:10.628702Z"
    },
    "papermill": {
     "duration": 0.667274,
     "end_time": "2025-07-26T04:44:10.631167",
     "exception": false,
     "start_time": "2025-07-26T04:44:09.963893",
     "status": "completed"
    },
    "tags": []
   },
   "outputs": [
    {
     "name": "stdout",
     "output_type": "stream",
     "text": [
      "Path to dataset files: /kaggle/input/churn-modelling\n"
     ]
    }
   ],
   "source": [
    "import kagglehub\n",
    "\n",
    "# Download latest version\n",
    "path = kagglehub.dataset_download(\"shrutimechlearn/churn-modelling\")\n",
    "\n",
    "print(\"Path to dataset files:\", path)"
   ]
  },
  {
   "cell_type": "code",
   "execution_count": 3,
   "id": "d9d2871a",
   "metadata": {
    "execution": {
     "iopub.execute_input": "2025-07-26T04:44:10.643081Z",
     "iopub.status.busy": "2025-07-26T04:44:10.642774Z",
     "iopub.status.idle": "2025-07-26T04:44:10.687167Z",
     "shell.execute_reply": "2025-07-26T04:44:10.686361Z"
    },
    "papermill": {
     "duration": 0.052267,
     "end_time": "2025-07-26T04:44:10.688876",
     "exception": false,
     "start_time": "2025-07-26T04:44:10.636609",
     "status": "completed"
    },
    "tags": []
   },
   "outputs": [],
   "source": [
    "df = pd.read_csv('/kaggle/input/churn-modelling/Churn_Modelling.csv')"
   ]
  },
  {
   "cell_type": "code",
   "execution_count": 4,
   "id": "93480ce2",
   "metadata": {
    "execution": {
     "iopub.execute_input": "2025-07-26T04:44:10.701215Z",
     "iopub.status.busy": "2025-07-26T04:44:10.700912Z",
     "iopub.status.idle": "2025-07-26T04:44:10.708369Z",
     "shell.execute_reply": "2025-07-26T04:44:10.707520Z"
    },
    "papermill": {
     "duration": 0.015215,
     "end_time": "2025-07-26T04:44:10.709827",
     "exception": false,
     "start_time": "2025-07-26T04:44:10.694612",
     "status": "completed"
    },
    "tags": []
   },
   "outputs": [
    {
     "data": {
      "text/plain": [
       "(Index(['RowNumber', 'CustomerId', 'Surname', 'CreditScore', 'Geography',\n",
       "        'Gender', 'Age', 'Tenure', 'Balance', 'NumOfProducts', 'HasCrCard',\n",
       "        'IsActiveMember', 'EstimatedSalary', 'Exited'],\n",
       "       dtype='object'),\n",
       " 14)"
      ]
     },
     "execution_count": 4,
     "metadata": {},
     "output_type": "execute_result"
    }
   ],
   "source": [
    "df.columns,len(df.columns)"
   ]
  },
  {
   "cell_type": "code",
   "execution_count": 5,
   "id": "98af51d8",
   "metadata": {
    "execution": {
     "iopub.execute_input": "2025-07-26T04:44:10.721904Z",
     "iopub.status.busy": "2025-07-26T04:44:10.721611Z",
     "iopub.status.idle": "2025-07-26T04:44:10.746666Z",
     "shell.execute_reply": "2025-07-26T04:44:10.745661Z"
    },
    "papermill": {
     "duration": 0.032707,
     "end_time": "2025-07-26T04:44:10.748047",
     "exception": false,
     "start_time": "2025-07-26T04:44:10.715340",
     "status": "completed"
    },
    "tags": []
   },
   "outputs": [
    {
     "name": "stdout",
     "output_type": "stream",
     "text": [
      "10000 RowNumber\n",
      "10000 CustomerId\n",
      "2932 Surname\n",
      "460 CreditScore\n",
      "3 Geography\n",
      "2 Gender\n",
      "70 Age\n",
      "11 Tenure\n",
      "6382 Balance\n",
      "4 NumOfProducts\n",
      "2 HasCrCard\n",
      "2 IsActiveMember\n",
      "9999 EstimatedSalary\n",
      "2 Exited\n"
     ]
    }
   ],
   "source": [
    "for i in df.columns:\n",
    "    print(df[i].value_counts().shape[0],i)"
   ]
  },
  {
   "cell_type": "code",
   "execution_count": 6,
   "id": "661c41cd",
   "metadata": {
    "execution": {
     "iopub.execute_input": "2025-07-26T04:44:10.760081Z",
     "iopub.status.busy": "2025-07-26T04:44:10.759783Z",
     "iopub.status.idle": "2025-07-26T04:44:10.779065Z",
     "shell.execute_reply": "2025-07-26T04:44:10.778037Z"
    },
    "papermill": {
     "duration": 0.027251,
     "end_time": "2025-07-26T04:44:10.780747",
     "exception": false,
     "start_time": "2025-07-26T04:44:10.753496",
     "status": "completed"
    },
    "tags": []
   },
   "outputs": [
    {
     "data": {
      "text/plain": [
       "(0,\n",
       " RowNumber          0\n",
       " CustomerId         0\n",
       " Surname            0\n",
       " CreditScore        0\n",
       " Geography          0\n",
       " Gender             0\n",
       " Age                0\n",
       " Tenure             0\n",
       " Balance            0\n",
       " NumOfProducts      0\n",
       " HasCrCard          0\n",
       " IsActiveMember     0\n",
       " EstimatedSalary    0\n",
       " Exited             0\n",
       " dtype: int64)"
      ]
     },
     "execution_count": 6,
     "metadata": {},
     "output_type": "execute_result"
    }
   ],
   "source": [
    "df.duplicated().sum(),df.isnull().sum()"
   ]
  },
  {
   "cell_type": "code",
   "execution_count": 7,
   "id": "0177077e",
   "metadata": {
    "execution": {
     "iopub.execute_input": "2025-07-26T04:44:10.793693Z",
     "iopub.status.busy": "2025-07-26T04:44:10.793398Z",
     "iopub.status.idle": "2025-07-26T04:44:10.803288Z",
     "shell.execute_reply": "2025-07-26T04:44:10.802320Z"
    },
    "papermill": {
     "duration": 0.018019,
     "end_time": "2025-07-26T04:44:10.805004",
     "exception": false,
     "start_time": "2025-07-26T04:44:10.786985",
     "status": "completed"
    },
    "tags": []
   },
   "outputs": [],
   "source": [
    "df.drop(columns=['RowNumber','CustomerId','Surname'],inplace=True)"
   ]
  },
  {
   "cell_type": "code",
   "execution_count": 8,
   "id": "79bc9fd6",
   "metadata": {
    "execution": {
     "iopub.execute_input": "2025-07-26T04:44:10.817670Z",
     "iopub.status.busy": "2025-07-26T04:44:10.817372Z",
     "iopub.status.idle": "2025-07-26T04:44:10.829046Z",
     "shell.execute_reply": "2025-07-26T04:44:10.828063Z"
    },
    "papermill": {
     "duration": 0.020009,
     "end_time": "2025-07-26T04:44:10.830744",
     "exception": false,
     "start_time": "2025-07-26T04:44:10.810735",
     "status": "completed"
    },
    "tags": []
   },
   "outputs": [],
   "source": [
    "df=pd.get_dummies(df,columns=['Geography','Gender'],drop_first=True,dtype='int64')"
   ]
  },
  {
   "cell_type": "code",
   "execution_count": 9,
   "id": "bb4d86c4",
   "metadata": {
    "execution": {
     "iopub.execute_input": "2025-07-26T04:44:10.843264Z",
     "iopub.status.busy": "2025-07-26T04:44:10.842925Z",
     "iopub.status.idle": "2025-07-26T04:44:10.848973Z",
     "shell.execute_reply": "2025-07-26T04:44:10.848254Z"
    },
    "papermill": {
     "duration": 0.014074,
     "end_time": "2025-07-26T04:44:10.850333",
     "exception": false,
     "start_time": "2025-07-26T04:44:10.836259",
     "status": "completed"
    },
    "tags": []
   },
   "outputs": [
    {
     "data": {
      "text/plain": [
       "(10000, 12)"
      ]
     },
     "execution_count": 9,
     "metadata": {},
     "output_type": "execute_result"
    }
   ],
   "source": [
    "df.shape"
   ]
  },
  {
   "cell_type": "code",
   "execution_count": 10,
   "id": "fe701169",
   "metadata": {
    "execution": {
     "iopub.execute_input": "2025-07-26T04:44:10.862753Z",
     "iopub.status.busy": "2025-07-26T04:44:10.862428Z",
     "iopub.status.idle": "2025-07-26T04:44:10.868680Z",
     "shell.execute_reply": "2025-07-26T04:44:10.867664Z"
    },
    "papermill": {
     "duration": 0.014473,
     "end_time": "2025-07-26T04:44:10.870353",
     "exception": false,
     "start_time": "2025-07-26T04:44:10.855880",
     "status": "completed"
    },
    "tags": []
   },
   "outputs": [],
   "source": [
    "X=df.drop('Exited',axis=1)"
   ]
  },
  {
   "cell_type": "code",
   "execution_count": 11,
   "id": "59d98667",
   "metadata": {
    "execution": {
     "iopub.execute_input": "2025-07-26T04:44:10.883420Z",
     "iopub.status.busy": "2025-07-26T04:44:10.882510Z",
     "iopub.status.idle": "2025-07-26T04:44:10.886769Z",
     "shell.execute_reply": "2025-07-26T04:44:10.886082Z"
    },
    "papermill": {
     "duration": 0.011969,
     "end_time": "2025-07-26T04:44:10.888086",
     "exception": false,
     "start_time": "2025-07-26T04:44:10.876117",
     "status": "completed"
    },
    "tags": []
   },
   "outputs": [],
   "source": [
    "y=df['Exited']"
   ]
  },
  {
   "cell_type": "code",
   "execution_count": 12,
   "id": "6d175eb1",
   "metadata": {
    "execution": {
     "iopub.execute_input": "2025-07-26T04:44:10.901088Z",
     "iopub.status.busy": "2025-07-26T04:44:10.900339Z",
     "iopub.status.idle": "2025-07-26T04:44:12.513835Z",
     "shell.execute_reply": "2025-07-26T04:44:12.513076Z"
    },
    "papermill": {
     "duration": 1.621799,
     "end_time": "2025-07-26T04:44:12.515542",
     "exception": false,
     "start_time": "2025-07-26T04:44:10.893743",
     "status": "completed"
    },
    "tags": []
   },
   "outputs": [],
   "source": [
    "from sklearn.model_selection import train_test_split\n",
    "X_train, X_test, y_train, y_test=train_test_split(X,y,test_size=0.2,random_state=42)"
   ]
  },
  {
   "cell_type": "code",
   "execution_count": 13,
   "id": "ca605350",
   "metadata": {
    "execution": {
     "iopub.execute_input": "2025-07-26T04:44:12.528432Z",
     "iopub.status.busy": "2025-07-26T04:44:12.527911Z",
     "iopub.status.idle": "2025-07-26T04:44:12.532521Z",
     "shell.execute_reply": "2025-07-26T04:44:12.531621Z"
    },
    "papermill": {
     "duration": 0.012805,
     "end_time": "2025-07-26T04:44:12.534083",
     "exception": false,
     "start_time": "2025-07-26T04:44:12.521278",
     "status": "completed"
    },
    "tags": []
   },
   "outputs": [],
   "source": [
    "from sklearn.preprocessing import StandardScaler\n",
    "scaler=StandardScaler()\n",
    "\n"
   ]
  },
  {
   "cell_type": "code",
   "execution_count": 14,
   "id": "d14a07a8",
   "metadata": {
    "execution": {
     "iopub.execute_input": "2025-07-26T04:44:12.546617Z",
     "iopub.status.busy": "2025-07-26T04:44:12.546272Z",
     "iopub.status.idle": "2025-07-26T04:44:12.565442Z",
     "shell.execute_reply": "2025-07-26T04:44:12.564679Z"
    },
    "papermill": {
     "duration": 0.027152,
     "end_time": "2025-07-26T04:44:12.567069",
     "exception": false,
     "start_time": "2025-07-26T04:44:12.539917",
     "status": "completed"
    },
    "tags": []
   },
   "outputs": [],
   "source": [
    "X_train_scaled=scaler.fit_transform(X_train)"
   ]
  },
  {
   "cell_type": "code",
   "execution_count": 15,
   "id": "72f1b8a7",
   "metadata": {
    "execution": {
     "iopub.execute_input": "2025-07-26T04:44:12.579542Z",
     "iopub.status.busy": "2025-07-26T04:44:12.579165Z",
     "iopub.status.idle": "2025-07-26T04:44:12.587420Z",
     "shell.execute_reply": "2025-07-26T04:44:12.586565Z"
    },
    "papermill": {
     "duration": 0.016326,
     "end_time": "2025-07-26T04:44:12.588995",
     "exception": false,
     "start_time": "2025-07-26T04:44:12.572669",
     "status": "completed"
    },
    "tags": []
   },
   "outputs": [],
   "source": [
    "X_test_scaled=scaler.transform(X_test)"
   ]
  },
  {
   "cell_type": "code",
   "execution_count": 16,
   "id": "93ac42bd",
   "metadata": {
    "execution": {
     "iopub.execute_input": "2025-07-26T04:44:12.601437Z",
     "iopub.status.busy": "2025-07-26T04:44:12.601088Z",
     "iopub.status.idle": "2025-07-26T04:44:28.176067Z",
     "shell.execute_reply": "2025-07-26T04:44:28.175012Z"
    },
    "papermill": {
     "duration": 15.583274,
     "end_time": "2025-07-26T04:44:28.177955",
     "exception": false,
     "start_time": "2025-07-26T04:44:12.594681",
     "status": "completed"
    },
    "tags": []
   },
   "outputs": [
    {
     "name": "stderr",
     "output_type": "stream",
     "text": [
      "2025-07-26 04:44:14.196105: E external/local_xla/xla/stream_executor/cuda/cuda_fft.cc:477] Unable to register cuFFT factory: Attempting to register factory for plugin cuFFT when one has already been registered\n",
      "WARNING: All log messages before absl::InitializeLog() is called are written to STDERR\n",
      "E0000 00:00:1753505054.415744      13 cuda_dnn.cc:8310] Unable to register cuDNN factory: Attempting to register factory for plugin cuDNN when one has already been registered\n",
      "E0000 00:00:1753505054.479686      13 cuda_blas.cc:1418] Unable to register cuBLAS factory: Attempting to register factory for plugin cuBLAS when one has already been registered\n"
     ]
    }
   ],
   "source": [
    "import tensorflow\n",
    "from tensorflow import keras\n",
    "from tensorflow.keras import Sequential\n",
    "from tensorflow.keras.layers import Dense"
   ]
  },
  {
   "cell_type": "code",
   "execution_count": 17,
   "id": "76179e02",
   "metadata": {
    "execution": {
     "iopub.execute_input": "2025-07-26T04:44:28.191028Z",
     "iopub.status.busy": "2025-07-26T04:44:28.190431Z",
     "iopub.status.idle": "2025-07-26T04:44:28.196490Z",
     "shell.execute_reply": "2025-07-26T04:44:28.195609Z"
    },
    "papermill": {
     "duration": 0.01408,
     "end_time": "2025-07-26T04:44:28.197940",
     "exception": false,
     "start_time": "2025-07-26T04:44:28.183860",
     "status": "completed"
    },
    "tags": []
   },
   "outputs": [
    {
     "data": {
      "text/plain": [
       "(8000, 11)"
      ]
     },
     "execution_count": 17,
     "metadata": {},
     "output_type": "execute_result"
    }
   ],
   "source": [
    "X_train.shape"
   ]
  },
  {
   "cell_type": "code",
   "execution_count": 18,
   "id": "673963e3",
   "metadata": {
    "execution": {
     "iopub.execute_input": "2025-07-26T04:44:28.210902Z",
     "iopub.status.busy": "2025-07-26T04:44:28.210593Z",
     "iopub.status.idle": "2025-07-26T04:44:28.304641Z",
     "shell.execute_reply": "2025-07-26T04:44:28.303517Z"
    },
    "papermill": {
     "duration": 0.10287,
     "end_time": "2025-07-26T04:44:28.306507",
     "exception": false,
     "start_time": "2025-07-26T04:44:28.203637",
     "status": "completed"
    },
    "tags": []
   },
   "outputs": [
    {
     "name": "stderr",
     "output_type": "stream",
     "text": [
      "/usr/local/lib/python3.11/dist-packages/keras/src/layers/core/dense.py:87: UserWarning: Do not pass an `input_shape`/`input_dim` argument to a layer. When using Sequential models, prefer using an `Input(shape)` object as the first layer in the model instead.\n",
      "  super().__init__(activity_regularizer=activity_regularizer, **kwargs)\n",
      "2025-07-26 04:44:28.220713: E external/local_xla/xla/stream_executor/cuda/cuda_driver.cc:152] failed call to cuInit: INTERNAL: CUDA error: Failed call to cuInit: UNKNOWN ERROR (303)\n"
     ]
    }
   ],
   "source": [
    "model=Sequential()\n",
    "model.add(Dense(3,activation='relu',input_dim=11))\n",
    "model.add(Dense(5,activation='relu'))\n",
    "model.add(Dense(1,activation='sigmoid'))"
   ]
  },
  {
   "cell_type": "code",
   "execution_count": 19,
   "id": "661332fe",
   "metadata": {
    "execution": {
     "iopub.execute_input": "2025-07-26T04:44:28.319577Z",
     "iopub.status.busy": "2025-07-26T04:44:28.318728Z",
     "iopub.status.idle": "2025-07-26T04:44:28.335685Z",
     "shell.execute_reply": "2025-07-26T04:44:28.334870Z"
    },
    "papermill": {
     "duration": 0.024758,
     "end_time": "2025-07-26T04:44:28.336975",
     "exception": false,
     "start_time": "2025-07-26T04:44:28.312217",
     "status": "completed"
    },
    "tags": []
   },
   "outputs": [
    {
     "data": {
      "text/html": [
       "<pre style=\"white-space:pre;overflow-x:auto;line-height:normal;font-family:Menlo,'DejaVu Sans Mono',consolas,'Courier New',monospace\"><span style=\"font-weight: bold\">Model: \"sequential\"</span>\n",
       "</pre>\n"
      ],
      "text/plain": [
       "\u001b[1mModel: \"sequential\"\u001b[0m\n"
      ]
     },
     "metadata": {},
     "output_type": "display_data"
    },
    {
     "data": {
      "text/html": [
       "<pre style=\"white-space:pre;overflow-x:auto;line-height:normal;font-family:Menlo,'DejaVu Sans Mono',consolas,'Courier New',monospace\">┏━━━━━━━━━━━━━━━━━━━━━━━━━━━━━━━━━┳━━━━━━━━━━━━━━━━━━━━━━━━┳━━━━━━━━━━━━━━━┓\n",
       "┃<span style=\"font-weight: bold\"> Layer (type)                    </span>┃<span style=\"font-weight: bold\"> Output Shape           </span>┃<span style=\"font-weight: bold\">       Param # </span>┃\n",
       "┡━━━━━━━━━━━━━━━━━━━━━━━━━━━━━━━━━╇━━━━━━━━━━━━━━━━━━━━━━━━╇━━━━━━━━━━━━━━━┩\n",
       "│ dense (<span style=\"color: #0087ff; text-decoration-color: #0087ff\">Dense</span>)                   │ (<span style=\"color: #00d7ff; text-decoration-color: #00d7ff\">None</span>, <span style=\"color: #00af00; text-decoration-color: #00af00\">3</span>)              │            <span style=\"color: #00af00; text-decoration-color: #00af00\">36</span> │\n",
       "├─────────────────────────────────┼────────────────────────┼───────────────┤\n",
       "│ dense_1 (<span style=\"color: #0087ff; text-decoration-color: #0087ff\">Dense</span>)                 │ (<span style=\"color: #00d7ff; text-decoration-color: #00d7ff\">None</span>, <span style=\"color: #00af00; text-decoration-color: #00af00\">5</span>)              │            <span style=\"color: #00af00; text-decoration-color: #00af00\">20</span> │\n",
       "├─────────────────────────────────┼────────────────────────┼───────────────┤\n",
       "│ dense_2 (<span style=\"color: #0087ff; text-decoration-color: #0087ff\">Dense</span>)                 │ (<span style=\"color: #00d7ff; text-decoration-color: #00d7ff\">None</span>, <span style=\"color: #00af00; text-decoration-color: #00af00\">1</span>)              │             <span style=\"color: #00af00; text-decoration-color: #00af00\">6</span> │\n",
       "└─────────────────────────────────┴────────────────────────┴───────────────┘\n",
       "</pre>\n"
      ],
      "text/plain": [
       "┏━━━━━━━━━━━━━━━━━━━━━━━━━━━━━━━━━┳━━━━━━━━━━━━━━━━━━━━━━━━┳━━━━━━━━━━━━━━━┓\n",
       "┃\u001b[1m \u001b[0m\u001b[1mLayer (type)                   \u001b[0m\u001b[1m \u001b[0m┃\u001b[1m \u001b[0m\u001b[1mOutput Shape          \u001b[0m\u001b[1m \u001b[0m┃\u001b[1m \u001b[0m\u001b[1m      Param #\u001b[0m\u001b[1m \u001b[0m┃\n",
       "┡━━━━━━━━━━━━━━━━━━━━━━━━━━━━━━━━━╇━━━━━━━━━━━━━━━━━━━━━━━━╇━━━━━━━━━━━━━━━┩\n",
       "│ dense (\u001b[38;5;33mDense\u001b[0m)                   │ (\u001b[38;5;45mNone\u001b[0m, \u001b[38;5;34m3\u001b[0m)              │            \u001b[38;5;34m36\u001b[0m │\n",
       "├─────────────────────────────────┼────────────────────────┼───────────────┤\n",
       "│ dense_1 (\u001b[38;5;33mDense\u001b[0m)                 │ (\u001b[38;5;45mNone\u001b[0m, \u001b[38;5;34m5\u001b[0m)              │            \u001b[38;5;34m20\u001b[0m │\n",
       "├─────────────────────────────────┼────────────────────────┼───────────────┤\n",
       "│ dense_2 (\u001b[38;5;33mDense\u001b[0m)                 │ (\u001b[38;5;45mNone\u001b[0m, \u001b[38;5;34m1\u001b[0m)              │             \u001b[38;5;34m6\u001b[0m │\n",
       "└─────────────────────────────────┴────────────────────────┴───────────────┘\n"
      ]
     },
     "metadata": {},
     "output_type": "display_data"
    },
    {
     "data": {
      "text/html": [
       "<pre style=\"white-space:pre;overflow-x:auto;line-height:normal;font-family:Menlo,'DejaVu Sans Mono',consolas,'Courier New',monospace\"><span style=\"font-weight: bold\"> Total params: </span><span style=\"color: #00af00; text-decoration-color: #00af00\">62</span> (248.00 B)\n",
       "</pre>\n"
      ],
      "text/plain": [
       "\u001b[1m Total params: \u001b[0m\u001b[38;5;34m62\u001b[0m (248.00 B)\n"
      ]
     },
     "metadata": {},
     "output_type": "display_data"
    },
    {
     "data": {
      "text/html": [
       "<pre style=\"white-space:pre;overflow-x:auto;line-height:normal;font-family:Menlo,'DejaVu Sans Mono',consolas,'Courier New',monospace\"><span style=\"font-weight: bold\"> Trainable params: </span><span style=\"color: #00af00; text-decoration-color: #00af00\">62</span> (248.00 B)\n",
       "</pre>\n"
      ],
      "text/plain": [
       "\u001b[1m Trainable params: \u001b[0m\u001b[38;5;34m62\u001b[0m (248.00 B)\n"
      ]
     },
     "metadata": {},
     "output_type": "display_data"
    },
    {
     "data": {
      "text/html": [
       "<pre style=\"white-space:pre;overflow-x:auto;line-height:normal;font-family:Menlo,'DejaVu Sans Mono',consolas,'Courier New',monospace\"><span style=\"font-weight: bold\"> Non-trainable params: </span><span style=\"color: #00af00; text-decoration-color: #00af00\">0</span> (0.00 B)\n",
       "</pre>\n"
      ],
      "text/plain": [
       "\u001b[1m Non-trainable params: \u001b[0m\u001b[38;5;34m0\u001b[0m (0.00 B)\n"
      ]
     },
     "metadata": {},
     "output_type": "display_data"
    }
   ],
   "source": [
    "model.summary()"
   ]
  },
  {
   "cell_type": "code",
   "execution_count": 20,
   "id": "41189941",
   "metadata": {
    "execution": {
     "iopub.execute_input": "2025-07-26T04:44:28.350802Z",
     "iopub.status.busy": "2025-07-26T04:44:28.350226Z",
     "iopub.status.idle": "2025-07-26T04:44:28.365027Z",
     "shell.execute_reply": "2025-07-26T04:44:28.364191Z"
    },
    "papermill": {
     "duration": 0.023462,
     "end_time": "2025-07-26T04:44:28.366749",
     "exception": false,
     "start_time": "2025-07-26T04:44:28.343287",
     "status": "completed"
    },
    "tags": []
   },
   "outputs": [],
   "source": [
    "model.compile(loss='binary_crossentropy',optimizer='Adam',metrics=['accuracy'])"
   ]
  },
  {
   "cell_type": "code",
   "execution_count": 21,
   "id": "7ead191c",
   "metadata": {
    "execution": {
     "iopub.execute_input": "2025-07-26T04:44:28.380916Z",
     "iopub.status.busy": "2025-07-26T04:44:28.380250Z",
     "iopub.status.idle": "2025-07-26T04:45:18.366098Z",
     "shell.execute_reply": "2025-07-26T04:45:18.365365Z"
    },
    "papermill": {
     "duration": 49.994413,
     "end_time": "2025-07-26T04:45:18.367699",
     "exception": false,
     "start_time": "2025-07-26T04:44:28.373286",
     "status": "completed"
    },
    "tags": []
   },
   "outputs": [
    {
     "name": "stdout",
     "output_type": "stream",
     "text": [
      "Epoch 1/100\n",
      "\u001b[1m200/200\u001b[0m \u001b[32m━━━━━━━━━━━━━━━━━━━━\u001b[0m\u001b[37m\u001b[0m \u001b[1m3s\u001b[0m 3ms/step - accuracy: 0.7667 - loss: 0.6225 - val_accuracy: 0.7987 - val_loss: 0.5409\n",
      "Epoch 2/100\n",
      "\u001b[1m200/200\u001b[0m \u001b[32m━━━━━━━━━━━━━━━━━━━━\u001b[0m\u001b[37m\u001b[0m \u001b[1m1s\u001b[0m 2ms/step - accuracy: 0.7936 - loss: 0.5360 - val_accuracy: 0.7987 - val_loss: 0.5010\n",
      "Epoch 3/100\n",
      "\u001b[1m200/200\u001b[0m \u001b[32m━━━━━━━━━━━━━━━━━━━━\u001b[0m\u001b[37m\u001b[0m \u001b[1m0s\u001b[0m 2ms/step - accuracy: 0.7828 - loss: 0.5169 - val_accuracy: 0.7987 - val_loss: 0.4860\n",
      "Epoch 4/100\n",
      "\u001b[1m200/200\u001b[0m \u001b[32m━━━━━━━━━━━━━━━━━━━━\u001b[0m\u001b[37m\u001b[0m \u001b[1m0s\u001b[0m 2ms/step - accuracy: 0.7937 - loss: 0.4839 - val_accuracy: 0.7987 - val_loss: 0.4771\n",
      "Epoch 5/100\n",
      "\u001b[1m200/200\u001b[0m \u001b[32m━━━━━━━━━━━━━━━━━━━━\u001b[0m\u001b[37m\u001b[0m \u001b[1m0s\u001b[0m 2ms/step - accuracy: 0.7835 - loss: 0.4916 - val_accuracy: 0.7987 - val_loss: 0.4692\n",
      "Epoch 6/100\n",
      "\u001b[1m200/200\u001b[0m \u001b[32m━━━━━━━━━━━━━━━━━━━━\u001b[0m\u001b[37m\u001b[0m \u001b[1m0s\u001b[0m 2ms/step - accuracy: 0.7928 - loss: 0.4730 - val_accuracy: 0.7987 - val_loss: 0.4603\n",
      "Epoch 7/100\n",
      "\u001b[1m200/200\u001b[0m \u001b[32m━━━━━━━━━━━━━━━━━━━━\u001b[0m\u001b[37m\u001b[0m \u001b[1m0s\u001b[0m 2ms/step - accuracy: 0.7964 - loss: 0.4555 - val_accuracy: 0.7987 - val_loss: 0.4516\n",
      "Epoch 8/100\n",
      "\u001b[1m200/200\u001b[0m \u001b[32m━━━━━━━━━━━━━━━━━━━━\u001b[0m\u001b[37m\u001b[0m \u001b[1m0s\u001b[0m 2ms/step - accuracy: 0.7976 - loss: 0.4506 - val_accuracy: 0.7987 - val_loss: 0.4443\n",
      "Epoch 9/100\n",
      "\u001b[1m200/200\u001b[0m \u001b[32m━━━━━━━━━━━━━━━━━━━━\u001b[0m\u001b[37m\u001b[0m \u001b[1m0s\u001b[0m 2ms/step - accuracy: 0.7960 - loss: 0.4491 - val_accuracy: 0.7987 - val_loss: 0.4379\n",
      "Epoch 10/100\n",
      "\u001b[1m200/200\u001b[0m \u001b[32m━━━━━━━━━━━━━━━━━━━━\u001b[0m\u001b[37m\u001b[0m \u001b[1m0s\u001b[0m 2ms/step - accuracy: 0.8013 - loss: 0.4276 - val_accuracy: 0.7987 - val_loss: 0.4329\n",
      "Epoch 11/100\n",
      "\u001b[1m200/200\u001b[0m \u001b[32m━━━━━━━━━━━━━━━━━━━━\u001b[0m\u001b[37m\u001b[0m \u001b[1m0s\u001b[0m 2ms/step - accuracy: 0.7942 - loss: 0.4309 - val_accuracy: 0.7987 - val_loss: 0.4283\n",
      "Epoch 12/100\n",
      "\u001b[1m200/200\u001b[0m \u001b[32m━━━━━━━━━━━━━━━━━━━━\u001b[0m\u001b[37m\u001b[0m \u001b[1m0s\u001b[0m 2ms/step - accuracy: 0.7946 - loss: 0.4269 - val_accuracy: 0.7987 - val_loss: 0.4238\n",
      "Epoch 13/100\n",
      "\u001b[1m200/200\u001b[0m \u001b[32m━━━━━━━━━━━━━━━━━━━━\u001b[0m\u001b[37m\u001b[0m \u001b[1m0s\u001b[0m 2ms/step - accuracy: 0.7914 - loss: 0.4211 - val_accuracy: 0.7987 - val_loss: 0.4197\n",
      "Epoch 14/100\n",
      "\u001b[1m200/200\u001b[0m \u001b[32m━━━━━━━━━━━━━━━━━━━━\u001b[0m\u001b[37m\u001b[0m \u001b[1m0s\u001b[0m 2ms/step - accuracy: 0.7954 - loss: 0.4181 - val_accuracy: 0.7987 - val_loss: 0.4146\n",
      "Epoch 15/100\n",
      "\u001b[1m200/200\u001b[0m \u001b[32m━━━━━━━━━━━━━━━━━━━━\u001b[0m\u001b[37m\u001b[0m \u001b[1m0s\u001b[0m 2ms/step - accuracy: 0.7937 - loss: 0.4139 - val_accuracy: 0.7987 - val_loss: 0.4087\n",
      "Epoch 16/100\n",
      "\u001b[1m200/200\u001b[0m \u001b[32m━━━━━━━━━━━━━━━━━━━━\u001b[0m\u001b[37m\u001b[0m \u001b[1m0s\u001b[0m 2ms/step - accuracy: 0.7984 - loss: 0.4035 - val_accuracy: 0.8044 - val_loss: 0.4019\n",
      "Epoch 17/100\n",
      "\u001b[1m200/200\u001b[0m \u001b[32m━━━━━━━━━━━━━━━━━━━━\u001b[0m\u001b[37m\u001b[0m \u001b[1m0s\u001b[0m 2ms/step - accuracy: 0.8061 - loss: 0.4002 - val_accuracy: 0.8144 - val_loss: 0.3946\n",
      "Epoch 18/100\n",
      "\u001b[1m200/200\u001b[0m \u001b[32m━━━━━━━━━━━━━━━━━━━━\u001b[0m\u001b[37m\u001b[0m \u001b[1m0s\u001b[0m 2ms/step - accuracy: 0.8079 - loss: 0.3904 - val_accuracy: 0.8400 - val_loss: 0.3867\n",
      "Epoch 19/100\n",
      "\u001b[1m200/200\u001b[0m \u001b[32m━━━━━━━━━━━━━━━━━━━━\u001b[0m\u001b[37m\u001b[0m \u001b[1m0s\u001b[0m 2ms/step - accuracy: 0.8377 - loss: 0.3876 - val_accuracy: 0.8425 - val_loss: 0.3795\n",
      "Epoch 20/100\n",
      "\u001b[1m200/200\u001b[0m \u001b[32m━━━━━━━━━━━━━━━━━━━━\u001b[0m\u001b[37m\u001b[0m \u001b[1m0s\u001b[0m 2ms/step - accuracy: 0.8426 - loss: 0.3748 - val_accuracy: 0.8494 - val_loss: 0.3729\n",
      "Epoch 21/100\n",
      "\u001b[1m200/200\u001b[0m \u001b[32m━━━━━━━━━━━━━━━━━━━━\u001b[0m\u001b[37m\u001b[0m \u001b[1m0s\u001b[0m 2ms/step - accuracy: 0.8446 - loss: 0.3728 - val_accuracy: 0.8519 - val_loss: 0.3670\n",
      "Epoch 22/100\n",
      "\u001b[1m200/200\u001b[0m \u001b[32m━━━━━━━━━━━━━━━━━━━━\u001b[0m\u001b[37m\u001b[0m \u001b[1m0s\u001b[0m 2ms/step - accuracy: 0.8590 - loss: 0.3614 - val_accuracy: 0.8531 - val_loss: 0.3625\n",
      "Epoch 23/100\n",
      "\u001b[1m200/200\u001b[0m \u001b[32m━━━━━━━━━━━━━━━━━━━━\u001b[0m\u001b[37m\u001b[0m \u001b[1m1s\u001b[0m 2ms/step - accuracy: 0.8559 - loss: 0.3540 - val_accuracy: 0.8537 - val_loss: 0.3589\n",
      "Epoch 24/100\n",
      "\u001b[1m200/200\u001b[0m \u001b[32m━━━━━━━━━━━━━━━━━━━━\u001b[0m\u001b[37m\u001b[0m \u001b[1m0s\u001b[0m 2ms/step - accuracy: 0.8623 - loss: 0.3454 - val_accuracy: 0.8556 - val_loss: 0.3561\n",
      "Epoch 25/100\n",
      "\u001b[1m200/200\u001b[0m \u001b[32m━━━━━━━━━━━━━━━━━━━━\u001b[0m\u001b[37m\u001b[0m \u001b[1m0s\u001b[0m 2ms/step - accuracy: 0.8582 - loss: 0.3482 - val_accuracy: 0.8537 - val_loss: 0.3542\n",
      "Epoch 26/100\n",
      "\u001b[1m200/200\u001b[0m \u001b[32m━━━━━━━━━━━━━━━━━━━━\u001b[0m\u001b[37m\u001b[0m \u001b[1m0s\u001b[0m 2ms/step - accuracy: 0.8548 - loss: 0.3576 - val_accuracy: 0.8550 - val_loss: 0.3530\n",
      "Epoch 27/100\n",
      "\u001b[1m200/200\u001b[0m \u001b[32m━━━━━━━━━━━━━━━━━━━━\u001b[0m\u001b[37m\u001b[0m \u001b[1m0s\u001b[0m 2ms/step - accuracy: 0.8620 - loss: 0.3532 - val_accuracy: 0.8537 - val_loss: 0.3521\n",
      "Epoch 28/100\n",
      "\u001b[1m200/200\u001b[0m \u001b[32m━━━━━━━━━━━━━━━━━━━━\u001b[0m\u001b[37m\u001b[0m \u001b[1m0s\u001b[0m 2ms/step - accuracy: 0.8579 - loss: 0.3406 - val_accuracy: 0.8562 - val_loss: 0.3508\n",
      "Epoch 29/100\n",
      "\u001b[1m200/200\u001b[0m \u001b[32m━━━━━━━━━━━━━━━━━━━━\u001b[0m\u001b[37m\u001b[0m \u001b[1m0s\u001b[0m 2ms/step - accuracy: 0.8526 - loss: 0.3542 - val_accuracy: 0.8556 - val_loss: 0.3501\n",
      "Epoch 30/100\n",
      "\u001b[1m200/200\u001b[0m \u001b[32m━━━━━━━━━━━━━━━━━━━━\u001b[0m\u001b[37m\u001b[0m \u001b[1m0s\u001b[0m 2ms/step - accuracy: 0.8586 - loss: 0.3498 - val_accuracy: 0.8556 - val_loss: 0.3493\n",
      "Epoch 31/100\n",
      "\u001b[1m200/200\u001b[0m \u001b[32m━━━━━━━━━━━━━━━━━━━━\u001b[0m\u001b[37m\u001b[0m \u001b[1m0s\u001b[0m 2ms/step - accuracy: 0.8579 - loss: 0.3487 - val_accuracy: 0.8550 - val_loss: 0.3494\n",
      "Epoch 32/100\n",
      "\u001b[1m200/200\u001b[0m \u001b[32m━━━━━━━━━━━━━━━━━━━━\u001b[0m\u001b[37m\u001b[0m \u001b[1m0s\u001b[0m 2ms/step - accuracy: 0.8598 - loss: 0.3455 - val_accuracy: 0.8569 - val_loss: 0.3478\n",
      "Epoch 33/100\n",
      "\u001b[1m200/200\u001b[0m \u001b[32m━━━━━━━━━━━━━━━━━━━━\u001b[0m\u001b[37m\u001b[0m \u001b[1m0s\u001b[0m 2ms/step - accuracy: 0.8584 - loss: 0.3464 - val_accuracy: 0.8544 - val_loss: 0.3474\n",
      "Epoch 34/100\n",
      "\u001b[1m200/200\u001b[0m \u001b[32m━━━━━━━━━━━━━━━━━━━━\u001b[0m\u001b[37m\u001b[0m \u001b[1m0s\u001b[0m 2ms/step - accuracy: 0.8521 - loss: 0.3519 - val_accuracy: 0.8556 - val_loss: 0.3471\n",
      "Epoch 35/100\n",
      "\u001b[1m200/200\u001b[0m \u001b[32m━━━━━━━━━━━━━━━━━━━━\u001b[0m\u001b[37m\u001b[0m \u001b[1m1s\u001b[0m 3ms/step - accuracy: 0.8632 - loss: 0.3434 - val_accuracy: 0.8569 - val_loss: 0.3466\n",
      "Epoch 36/100\n",
      "\u001b[1m200/200\u001b[0m \u001b[32m━━━━━━━━━━━━━━━━━━━━\u001b[0m\u001b[37m\u001b[0m \u001b[1m1s\u001b[0m 2ms/step - accuracy: 0.8619 - loss: 0.3420 - val_accuracy: 0.8556 - val_loss: 0.3464\n",
      "Epoch 37/100\n",
      "\u001b[1m200/200\u001b[0m \u001b[32m━━━━━━━━━━━━━━━━━━━━\u001b[0m\u001b[37m\u001b[0m \u001b[1m0s\u001b[0m 2ms/step - accuracy: 0.8566 - loss: 0.3466 - val_accuracy: 0.8537 - val_loss: 0.3477\n",
      "Epoch 38/100\n",
      "\u001b[1m200/200\u001b[0m \u001b[32m━━━━━━━━━━━━━━━━━━━━\u001b[0m\u001b[37m\u001b[0m \u001b[1m0s\u001b[0m 2ms/step - accuracy: 0.8648 - loss: 0.3280 - val_accuracy: 0.8544 - val_loss: 0.3470\n",
      "Epoch 39/100\n",
      "\u001b[1m200/200\u001b[0m \u001b[32m━━━━━━━━━━━━━━━━━━━━\u001b[0m\u001b[37m\u001b[0m \u001b[1m0s\u001b[0m 2ms/step - accuracy: 0.8624 - loss: 0.3359 - val_accuracy: 0.8581 - val_loss: 0.3464\n",
      "Epoch 40/100\n",
      "\u001b[1m200/200\u001b[0m \u001b[32m━━━━━━━━━━━━━━━━━━━━\u001b[0m\u001b[37m\u001b[0m \u001b[1m0s\u001b[0m 2ms/step - accuracy: 0.8597 - loss: 0.3425 - val_accuracy: 0.8569 - val_loss: 0.3476\n",
      "Epoch 41/100\n",
      "\u001b[1m200/200\u001b[0m \u001b[32m━━━━━━━━━━━━━━━━━━━━\u001b[0m\u001b[37m\u001b[0m \u001b[1m0s\u001b[0m 2ms/step - accuracy: 0.8585 - loss: 0.3429 - val_accuracy: 0.8587 - val_loss: 0.3460\n",
      "Epoch 42/100\n",
      "\u001b[1m200/200\u001b[0m \u001b[32m━━━━━━━━━━━━━━━━━━━━\u001b[0m\u001b[37m\u001b[0m \u001b[1m0s\u001b[0m 2ms/step - accuracy: 0.8709 - loss: 0.3268 - val_accuracy: 0.8581 - val_loss: 0.3460\n",
      "Epoch 43/100\n",
      "\u001b[1m200/200\u001b[0m \u001b[32m━━━━━━━━━━━━━━━━━━━━\u001b[0m\u001b[37m\u001b[0m \u001b[1m0s\u001b[0m 2ms/step - accuracy: 0.8580 - loss: 0.3403 - val_accuracy: 0.8581 - val_loss: 0.3456\n",
      "Epoch 44/100\n",
      "\u001b[1m200/200\u001b[0m \u001b[32m━━━━━━━━━━━━━━━━━━━━\u001b[0m\u001b[37m\u001b[0m \u001b[1m0s\u001b[0m 2ms/step - accuracy: 0.8654 - loss: 0.3397 - val_accuracy: 0.8562 - val_loss: 0.3455\n",
      "Epoch 45/100\n",
      "\u001b[1m200/200\u001b[0m \u001b[32m━━━━━━━━━━━━━━━━━━━━\u001b[0m\u001b[37m\u001b[0m \u001b[1m0s\u001b[0m 2ms/step - accuracy: 0.8617 - loss: 0.3379 - val_accuracy: 0.8544 - val_loss: 0.3457\n",
      "Epoch 46/100\n",
      "\u001b[1m200/200\u001b[0m \u001b[32m━━━━━━━━━━━━━━━━━━━━\u001b[0m\u001b[37m\u001b[0m \u001b[1m0s\u001b[0m 2ms/step - accuracy: 0.8635 - loss: 0.3297 - val_accuracy: 0.8556 - val_loss: 0.3455\n",
      "Epoch 47/100\n",
      "\u001b[1m200/200\u001b[0m \u001b[32m━━━━━━━━━━━━━━━━━━━━\u001b[0m\u001b[37m\u001b[0m \u001b[1m0s\u001b[0m 2ms/step - accuracy: 0.8553 - loss: 0.3411 - val_accuracy: 0.8581 - val_loss: 0.3452\n",
      "Epoch 48/100\n",
      "\u001b[1m200/200\u001b[0m \u001b[32m━━━━━━━━━━━━━━━━━━━━\u001b[0m\u001b[37m\u001b[0m \u001b[1m0s\u001b[0m 2ms/step - accuracy: 0.8640 - loss: 0.3334 - val_accuracy: 0.8556 - val_loss: 0.3452\n",
      "Epoch 49/100\n",
      "\u001b[1m200/200\u001b[0m \u001b[32m━━━━━━━━━━━━━━━━━━━━\u001b[0m\u001b[37m\u001b[0m \u001b[1m0s\u001b[0m 2ms/step - accuracy: 0.8562 - loss: 0.3390 - val_accuracy: 0.8587 - val_loss: 0.3454\n",
      "Epoch 50/100\n",
      "\u001b[1m200/200\u001b[0m \u001b[32m━━━━━━━━━━━━━━━━━━━━\u001b[0m\u001b[37m\u001b[0m \u001b[1m0s\u001b[0m 2ms/step - accuracy: 0.8578 - loss: 0.3467 - val_accuracy: 0.8556 - val_loss: 0.3452\n",
      "Epoch 51/100\n",
      "\u001b[1m200/200\u001b[0m \u001b[32m━━━━━━━━━━━━━━━━━━━━\u001b[0m\u001b[37m\u001b[0m \u001b[1m0s\u001b[0m 2ms/step - accuracy: 0.8590 - loss: 0.3456 - val_accuracy: 0.8556 - val_loss: 0.3462\n",
      "Epoch 52/100\n",
      "\u001b[1m200/200\u001b[0m \u001b[32m━━━━━━━━━━━━━━━━━━━━\u001b[0m\u001b[37m\u001b[0m \u001b[1m0s\u001b[0m 2ms/step - accuracy: 0.8588 - loss: 0.3404 - val_accuracy: 0.8544 - val_loss: 0.3449\n",
      "Epoch 53/100\n",
      "\u001b[1m200/200\u001b[0m \u001b[32m━━━━━━━━━━━━━━━━━━━━\u001b[0m\u001b[37m\u001b[0m \u001b[1m0s\u001b[0m 2ms/step - accuracy: 0.8593 - loss: 0.3369 - val_accuracy: 0.8556 - val_loss: 0.3449\n",
      "Epoch 54/100\n",
      "\u001b[1m200/200\u001b[0m \u001b[32m━━━━━━━━━━━━━━━━━━━━\u001b[0m\u001b[37m\u001b[0m \u001b[1m0s\u001b[0m 2ms/step - accuracy: 0.8689 - loss: 0.3253 - val_accuracy: 0.8562 - val_loss: 0.3443\n",
      "Epoch 55/100\n",
      "\u001b[1m200/200\u001b[0m \u001b[32m━━━━━━━━━━━━━━━━━━━━\u001b[0m\u001b[37m\u001b[0m \u001b[1m0s\u001b[0m 2ms/step - accuracy: 0.8597 - loss: 0.3422 - val_accuracy: 0.8562 - val_loss: 0.3446\n",
      "Epoch 56/100\n",
      "\u001b[1m200/200\u001b[0m \u001b[32m━━━━━━━━━━━━━━━━━━━━\u001b[0m\u001b[37m\u001b[0m \u001b[1m0s\u001b[0m 2ms/step - accuracy: 0.8630 - loss: 0.3310 - val_accuracy: 0.8569 - val_loss: 0.3442\n",
      "Epoch 57/100\n",
      "\u001b[1m200/200\u001b[0m \u001b[32m━━━━━━━━━━━━━━━━━━━━\u001b[0m\u001b[37m\u001b[0m \u001b[1m0s\u001b[0m 2ms/step - accuracy: 0.8637 - loss: 0.3318 - val_accuracy: 0.8544 - val_loss: 0.3444\n",
      "Epoch 58/100\n",
      "\u001b[1m200/200\u001b[0m \u001b[32m━━━━━━━━━━━━━━━━━━━━\u001b[0m\u001b[37m\u001b[0m \u001b[1m0s\u001b[0m 2ms/step - accuracy: 0.8582 - loss: 0.3397 - val_accuracy: 0.8581 - val_loss: 0.3451\n",
      "Epoch 59/100\n",
      "\u001b[1m200/200\u001b[0m \u001b[32m━━━━━━━━━━━━━━━━━━━━\u001b[0m\u001b[37m\u001b[0m \u001b[1m0s\u001b[0m 2ms/step - accuracy: 0.8545 - loss: 0.3559 - val_accuracy: 0.8581 - val_loss: 0.3451\n",
      "Epoch 60/100\n",
      "\u001b[1m200/200\u001b[0m \u001b[32m━━━━━━━━━━━━━━━━━━━━\u001b[0m\u001b[37m\u001b[0m \u001b[1m0s\u001b[0m 2ms/step - accuracy: 0.8623 - loss: 0.3307 - val_accuracy: 0.8581 - val_loss: 0.3444\n",
      "Epoch 61/100\n",
      "\u001b[1m200/200\u001b[0m \u001b[32m━━━━━━━━━━━━━━━━━━━━\u001b[0m\u001b[37m\u001b[0m \u001b[1m0s\u001b[0m 2ms/step - accuracy: 0.8539 - loss: 0.3487 - val_accuracy: 0.8562 - val_loss: 0.3443\n",
      "Epoch 62/100\n",
      "\u001b[1m200/200\u001b[0m \u001b[32m━━━━━━━━━━━━━━━━━━━━\u001b[0m\u001b[37m\u001b[0m \u001b[1m0s\u001b[0m 2ms/step - accuracy: 0.8605 - loss: 0.3443 - val_accuracy: 0.8581 - val_loss: 0.3440\n",
      "Epoch 63/100\n",
      "\u001b[1m200/200\u001b[0m \u001b[32m━━━━━━━━━━━━━━━━━━━━\u001b[0m\u001b[37m\u001b[0m \u001b[1m0s\u001b[0m 2ms/step - accuracy: 0.8647 - loss: 0.3381 - val_accuracy: 0.8569 - val_loss: 0.3443\n",
      "Epoch 64/100\n",
      "\u001b[1m200/200\u001b[0m \u001b[32m━━━━━━━━━━━━━━━━━━━━\u001b[0m\u001b[37m\u001b[0m \u001b[1m0s\u001b[0m 2ms/step - accuracy: 0.8536 - loss: 0.3531 - val_accuracy: 0.8606 - val_loss: 0.3444\n",
      "Epoch 65/100\n",
      "\u001b[1m200/200\u001b[0m \u001b[32m━━━━━━━━━━━━━━━━━━━━\u001b[0m\u001b[37m\u001b[0m \u001b[1m0s\u001b[0m 2ms/step - accuracy: 0.8587 - loss: 0.3459 - val_accuracy: 0.8594 - val_loss: 0.3444\n",
      "Epoch 66/100\n",
      "\u001b[1m200/200\u001b[0m \u001b[32m━━━━━━━━━━━━━━━━━━━━\u001b[0m\u001b[37m\u001b[0m \u001b[1m0s\u001b[0m 2ms/step - accuracy: 0.8577 - loss: 0.3454 - val_accuracy: 0.8562 - val_loss: 0.3442\n",
      "Epoch 67/100\n",
      "\u001b[1m200/200\u001b[0m \u001b[32m━━━━━━━━━━━━━━━━━━━━\u001b[0m\u001b[37m\u001b[0m \u001b[1m0s\u001b[0m 2ms/step - accuracy: 0.8545 - loss: 0.3442 - val_accuracy: 0.8544 - val_loss: 0.3440\n",
      "Epoch 68/100\n",
      "\u001b[1m200/200\u001b[0m \u001b[32m━━━━━━━━━━━━━━━━━━━━\u001b[0m\u001b[37m\u001b[0m \u001b[1m0s\u001b[0m 2ms/step - accuracy: 0.8643 - loss: 0.3317 - val_accuracy: 0.8550 - val_loss: 0.3444\n",
      "Epoch 69/100\n",
      "\u001b[1m200/200\u001b[0m \u001b[32m━━━━━━━━━━━━━━━━━━━━\u001b[0m\u001b[37m\u001b[0m \u001b[1m1s\u001b[0m 2ms/step - accuracy: 0.8713 - loss: 0.3223 - val_accuracy: 0.8550 - val_loss: 0.3439\n",
      "Epoch 70/100\n",
      "\u001b[1m200/200\u001b[0m \u001b[32m━━━━━━━━━━━━━━━━━━━━\u001b[0m\u001b[37m\u001b[0m \u001b[1m0s\u001b[0m 2ms/step - accuracy: 0.8581 - loss: 0.3454 - val_accuracy: 0.8569 - val_loss: 0.3438\n",
      "Epoch 71/100\n",
      "\u001b[1m200/200\u001b[0m \u001b[32m━━━━━━━━━━━━━━━━━━━━\u001b[0m\u001b[37m\u001b[0m \u001b[1m0s\u001b[0m 2ms/step - accuracy: 0.8731 - loss: 0.3233 - val_accuracy: 0.8556 - val_loss: 0.3439\n",
      "Epoch 72/100\n",
      "\u001b[1m200/200\u001b[0m \u001b[32m━━━━━━━━━━━━━━━━━━━━\u001b[0m\u001b[37m\u001b[0m \u001b[1m0s\u001b[0m 2ms/step - accuracy: 0.8612 - loss: 0.3338 - val_accuracy: 0.8562 - val_loss: 0.3435\n",
      "Epoch 73/100\n",
      "\u001b[1m200/200\u001b[0m \u001b[32m━━━━━━━━━━━━━━━━━━━━\u001b[0m\u001b[37m\u001b[0m \u001b[1m0s\u001b[0m 2ms/step - accuracy: 0.8733 - loss: 0.3226 - val_accuracy: 0.8556 - val_loss: 0.3438\n",
      "Epoch 74/100\n",
      "\u001b[1m200/200\u001b[0m \u001b[32m━━━━━━━━━━━━━━━━━━━━\u001b[0m\u001b[37m\u001b[0m \u001b[1m0s\u001b[0m 2ms/step - accuracy: 0.8610 - loss: 0.3353 - val_accuracy: 0.8575 - val_loss: 0.3437\n",
      "Epoch 75/100\n",
      "\u001b[1m200/200\u001b[0m \u001b[32m━━━━━━━━━━━━━━━━━━━━\u001b[0m\u001b[37m\u001b[0m \u001b[1m0s\u001b[0m 2ms/step - accuracy: 0.8620 - loss: 0.3372 - val_accuracy: 0.8600 - val_loss: 0.3442\n",
      "Epoch 76/100\n",
      "\u001b[1m200/200\u001b[0m \u001b[32m━━━━━━━━━━━━━━━━━━━━\u001b[0m\u001b[37m\u001b[0m \u001b[1m0s\u001b[0m 2ms/step - accuracy: 0.8623 - loss: 0.3427 - val_accuracy: 0.8550 - val_loss: 0.3437\n",
      "Epoch 77/100\n",
      "\u001b[1m200/200\u001b[0m \u001b[32m━━━━━━━━━━━━━━━━━━━━\u001b[0m\u001b[37m\u001b[0m \u001b[1m0s\u001b[0m 2ms/step - accuracy: 0.8575 - loss: 0.3410 - val_accuracy: 0.8562 - val_loss: 0.3436\n",
      "Epoch 78/100\n",
      "\u001b[1m200/200\u001b[0m \u001b[32m━━━━━━━━━━━━━━━━━━━━\u001b[0m\u001b[37m\u001b[0m \u001b[1m0s\u001b[0m 2ms/step - accuracy: 0.8588 - loss: 0.3339 - val_accuracy: 0.8569 - val_loss: 0.3438\n",
      "Epoch 79/100\n",
      "\u001b[1m200/200\u001b[0m \u001b[32m━━━━━━━━━━━━━━━━━━━━\u001b[0m\u001b[37m\u001b[0m \u001b[1m0s\u001b[0m 2ms/step - accuracy: 0.8650 - loss: 0.3395 - val_accuracy: 0.8587 - val_loss: 0.3439\n",
      "Epoch 80/100\n",
      "\u001b[1m200/200\u001b[0m \u001b[32m━━━━━━━━━━━━━━━━━━━━\u001b[0m\u001b[37m\u001b[0m \u001b[1m0s\u001b[0m 2ms/step - accuracy: 0.8596 - loss: 0.3399 - val_accuracy: 0.8556 - val_loss: 0.3435\n",
      "Epoch 81/100\n",
      "\u001b[1m200/200\u001b[0m \u001b[32m━━━━━━━━━━━━━━━━━━━━\u001b[0m\u001b[37m\u001b[0m \u001b[1m0s\u001b[0m 2ms/step - accuracy: 0.8601 - loss: 0.3403 - val_accuracy: 0.8562 - val_loss: 0.3437\n",
      "Epoch 82/100\n",
      "\u001b[1m200/200\u001b[0m \u001b[32m━━━━━━━━━━━━━━━━━━━━\u001b[0m\u001b[37m\u001b[0m \u001b[1m0s\u001b[0m 2ms/step - accuracy: 0.8633 - loss: 0.3362 - val_accuracy: 0.8569 - val_loss: 0.3440\n",
      "Epoch 83/100\n",
      "\u001b[1m200/200\u001b[0m \u001b[32m━━━━━━━━━━━━━━━━━━━━\u001b[0m\u001b[37m\u001b[0m \u001b[1m0s\u001b[0m 2ms/step - accuracy: 0.8620 - loss: 0.3410 - val_accuracy: 0.8600 - val_loss: 0.3441\n",
      "Epoch 84/100\n",
      "\u001b[1m200/200\u001b[0m \u001b[32m━━━━━━━━━━━━━━━━━━━━\u001b[0m\u001b[37m\u001b[0m \u001b[1m0s\u001b[0m 2ms/step - accuracy: 0.8705 - loss: 0.3302 - val_accuracy: 0.8556 - val_loss: 0.3438\n",
      "Epoch 85/100\n",
      "\u001b[1m200/200\u001b[0m \u001b[32m━━━━━━━━━━━━━━━━━━━━\u001b[0m\u001b[37m\u001b[0m \u001b[1m0s\u001b[0m 2ms/step - accuracy: 0.8677 - loss: 0.3304 - val_accuracy: 0.8562 - val_loss: 0.3437\n",
      "Epoch 86/100\n",
      "\u001b[1m200/200\u001b[0m \u001b[32m━━━━━━━━━━━━━━━━━━━━\u001b[0m\u001b[37m\u001b[0m \u001b[1m0s\u001b[0m 2ms/step - accuracy: 0.8546 - loss: 0.3433 - val_accuracy: 0.8556 - val_loss: 0.3435\n",
      "Epoch 87/100\n",
      "\u001b[1m200/200\u001b[0m \u001b[32m━━━━━━━━━━━━━━━━━━━━\u001b[0m\u001b[37m\u001b[0m \u001b[1m0s\u001b[0m 2ms/step - accuracy: 0.8605 - loss: 0.3350 - val_accuracy: 0.8587 - val_loss: 0.3436\n",
      "Epoch 88/100\n",
      "\u001b[1m200/200\u001b[0m \u001b[32m━━━━━━━━━━━━━━━━━━━━\u001b[0m\u001b[37m\u001b[0m \u001b[1m0s\u001b[0m 2ms/step - accuracy: 0.8629 - loss: 0.3341 - val_accuracy: 0.8569 - val_loss: 0.3433\n",
      "Epoch 89/100\n",
      "\u001b[1m200/200\u001b[0m \u001b[32m━━━━━━━━━━━━━━━━━━━━\u001b[0m\u001b[37m\u001b[0m \u001b[1m0s\u001b[0m 2ms/step - accuracy: 0.8626 - loss: 0.3331 - val_accuracy: 0.8550 - val_loss: 0.3434\n",
      "Epoch 90/100\n",
      "\u001b[1m200/200\u001b[0m \u001b[32m━━━━━━━━━━━━━━━━━━━━\u001b[0m\u001b[37m\u001b[0m \u001b[1m0s\u001b[0m 2ms/step - accuracy: 0.8649 - loss: 0.3313 - val_accuracy: 0.8544 - val_loss: 0.3431\n",
      "Epoch 91/100\n",
      "\u001b[1m200/200\u001b[0m \u001b[32m━━━━━━━━━━━━━━━━━━━━\u001b[0m\u001b[37m\u001b[0m \u001b[1m0s\u001b[0m 2ms/step - accuracy: 0.8600 - loss: 0.3428 - val_accuracy: 0.8556 - val_loss: 0.3430\n",
      "Epoch 92/100\n",
      "\u001b[1m200/200\u001b[0m \u001b[32m━━━━━━━━━━━━━━━━━━━━\u001b[0m\u001b[37m\u001b[0m \u001b[1m0s\u001b[0m 2ms/step - accuracy: 0.8657 - loss: 0.3286 - val_accuracy: 0.8550 - val_loss: 0.3431\n",
      "Epoch 93/100\n",
      "\u001b[1m200/200\u001b[0m \u001b[32m━━━━━━━━━━━━━━━━━━━━\u001b[0m\u001b[37m\u001b[0m \u001b[1m0s\u001b[0m 2ms/step - accuracy: 0.8534 - loss: 0.3438 - val_accuracy: 0.8562 - val_loss: 0.3431\n",
      "Epoch 94/100\n",
      "\u001b[1m200/200\u001b[0m \u001b[32m━━━━━━━━━━━━━━━━━━━━\u001b[0m\u001b[37m\u001b[0m \u001b[1m0s\u001b[0m 2ms/step - accuracy: 0.8539 - loss: 0.3489 - val_accuracy: 0.8581 - val_loss: 0.3430\n",
      "Epoch 95/100\n",
      "\u001b[1m200/200\u001b[0m \u001b[32m━━━━━━━━━━━━━━━━━━━━\u001b[0m\u001b[37m\u001b[0m \u001b[1m0s\u001b[0m 2ms/step - accuracy: 0.8634 - loss: 0.3356 - val_accuracy: 0.8562 - val_loss: 0.3433\n",
      "Epoch 96/100\n",
      "\u001b[1m200/200\u001b[0m \u001b[32m━━━━━━━━━━━━━━━━━━━━\u001b[0m\u001b[37m\u001b[0m \u001b[1m0s\u001b[0m 2ms/step - accuracy: 0.8568 - loss: 0.3431 - val_accuracy: 0.8575 - val_loss: 0.3434\n",
      "Epoch 97/100\n",
      "\u001b[1m200/200\u001b[0m \u001b[32m━━━━━━━━━━━━━━━━━━━━\u001b[0m\u001b[37m\u001b[0m \u001b[1m0s\u001b[0m 2ms/step - accuracy: 0.8647 - loss: 0.3371 - val_accuracy: 0.8544 - val_loss: 0.3433\n",
      "Epoch 98/100\n",
      "\u001b[1m200/200\u001b[0m \u001b[32m━━━━━━━━━━━━━━━━━━━━\u001b[0m\u001b[37m\u001b[0m \u001b[1m0s\u001b[0m 2ms/step - accuracy: 0.8632 - loss: 0.3297 - val_accuracy: 0.8550 - val_loss: 0.3436\n",
      "Epoch 99/100\n",
      "\u001b[1m200/200\u001b[0m \u001b[32m━━━━━━━━━━━━━━━━━━━━\u001b[0m\u001b[37m\u001b[0m \u001b[1m0s\u001b[0m 2ms/step - accuracy: 0.8562 - loss: 0.3440 - val_accuracy: 0.8587 - val_loss: 0.3436\n",
      "Epoch 100/100\n",
      "\u001b[1m200/200\u001b[0m \u001b[32m━━━━━━━━━━━━━━━━━━━━\u001b[0m\u001b[37m\u001b[0m \u001b[1m0s\u001b[0m 2ms/step - accuracy: 0.8590 - loss: 0.3359 - val_accuracy: 0.8575 - val_loss: 0.3430\n"
     ]
    }
   ],
   "source": [
    "history=model.fit(X_train_scaled,y_train,epochs=100,validation_split=0.2)"
   ]
  },
  {
   "cell_type": "code",
   "execution_count": 22,
   "id": "42ff52c3",
   "metadata": {
    "execution": {
     "iopub.execute_input": "2025-07-26T04:45:18.536205Z",
     "iopub.status.busy": "2025-07-26T04:45:18.535871Z",
     "iopub.status.idle": "2025-07-26T04:45:18.545832Z",
     "shell.execute_reply": "2025-07-26T04:45:18.544975Z"
    },
    "papermill": {
     "duration": 0.128926,
     "end_time": "2025-07-26T04:45:18.547413",
     "exception": false,
     "start_time": "2025-07-26T04:45:18.418487",
     "status": "completed"
    },
    "tags": []
   },
   "outputs": [
    {
     "data": {
      "text/plain": [
       "[array([[-1.48058580e-02,  1.83142126e-02, -5.88635840e-02],\n",
       "        [ 1.12532783e+00, -5.23704410e-01,  2.00957917e-02],\n",
       "        [ 1.18733563e-01,  9.31486604e-04, -3.41601372e-02],\n",
       "        [ 1.97805598e-01,  9.86525193e-02,  3.94793302e-01],\n",
       "        [ 4.81634855e-01,  4.37962413e-01,  1.22007883e+00],\n",
       "        [ 1.34404927e-01, -1.52337914e-02, -7.11275116e-02],\n",
       "        [ 1.45263445e+00,  1.03078000e-01,  1.13271706e-01],\n",
       "        [ 7.05205798e-02,  2.82537588e-03,  2.99692303e-02],\n",
       "        [-4.72707480e-01, -1.84819147e-01, -3.56763154e-01],\n",
       "        [ 1.50461435e-01, -2.39176285e-02,  4.54754122e-02],\n",
       "        [ 1.46349609e-01,  8.85566026e-02, -2.41318475e-02]], dtype=float32),\n",
       " array([-0.84713817,  1.3804679 , -0.9791802 ], dtype=float32)]"
      ]
     },
     "execution_count": 22,
     "metadata": {},
     "output_type": "execute_result"
    }
   ],
   "source": [
    "model.layers[0].get_weights()"
   ]
  },
  {
   "cell_type": "code",
   "execution_count": 23,
   "id": "004ed94b",
   "metadata": {
    "execution": {
     "iopub.execute_input": "2025-07-26T04:45:18.647251Z",
     "iopub.status.busy": "2025-07-26T04:45:18.646887Z",
     "iopub.status.idle": "2025-07-26T04:45:18.655217Z",
     "shell.execute_reply": "2025-07-26T04:45:18.654465Z"
    },
    "papermill": {
     "duration": 0.060066,
     "end_time": "2025-07-26T04:45:18.656612",
     "exception": false,
     "start_time": "2025-07-26T04:45:18.596546",
     "status": "completed"
    },
    "tags": []
   },
   "outputs": [
    {
     "data": {
      "text/plain": [
       "[array([[-0.26104695,  0.96157885, -0.1345585 , -0.38058493, -0.09586032],\n",
       "        [ 1.2051986 ,  0.72955245, -0.42943156,  1.0263997 ,  0.70512015],\n",
       "        [-0.7156095 , -0.7980115 , -0.65281665, -0.5209811 ,  1.781447  ]],\n",
       "       dtype=float32),\n",
       " array([-9.3043683e-04, -5.0142698e-04,  0.0000000e+00,  9.2424086e-04,\n",
       "         1.0329446e+00], dtype=float32)]"
      ]
     },
     "execution_count": 23,
     "metadata": {},
     "output_type": "execute_result"
    }
   ],
   "source": [
    "model.layers[1].get_weights()"
   ]
  },
  {
   "cell_type": "code",
   "execution_count": 24,
   "id": "fb977d90",
   "metadata": {
    "execution": {
     "iopub.execute_input": "2025-07-26T04:45:18.755343Z",
     "iopub.status.busy": "2025-07-26T04:45:18.755006Z",
     "iopub.status.idle": "2025-07-26T04:45:19.038201Z",
     "shell.execute_reply": "2025-07-26T04:45:19.037378Z"
    },
    "papermill": {
     "duration": 0.334248,
     "end_time": "2025-07-26T04:45:19.039761",
     "exception": false,
     "start_time": "2025-07-26T04:45:18.705513",
     "status": "completed"
    },
    "tags": []
   },
   "outputs": [
    {
     "name": "stdout",
     "output_type": "stream",
     "text": [
      "\u001b[1m63/63\u001b[0m \u001b[32m━━━━━━━━━━━━━━━━━━━━\u001b[0m\u001b[37m\u001b[0m \u001b[1m0s\u001b[0m 2ms/step\n"
     ]
    }
   ],
   "source": [
    "y_log=model.predict(X_test_scaled)"
   ]
  },
  {
   "cell_type": "code",
   "execution_count": 25,
   "id": "714fbccc",
   "metadata": {
    "execution": {
     "iopub.execute_input": "2025-07-26T04:45:19.156966Z",
     "iopub.status.busy": "2025-07-26T04:45:19.156055Z",
     "iopub.status.idle": "2025-07-26T04:45:19.163401Z",
     "shell.execute_reply": "2025-07-26T04:45:19.162316Z"
    },
    "papermill": {
     "duration": 0.067617,
     "end_time": "2025-07-26T04:45:19.164822",
     "exception": false,
     "start_time": "2025-07-26T04:45:19.097205",
     "status": "completed"
    },
    "tags": []
   },
   "outputs": [
    {
     "data": {
      "text/plain": [
       "array([[0.03888344],\n",
       "       [0.02673438],\n",
       "       [0.17395349],\n",
       "       ...,\n",
       "       [0.68038195],\n",
       "       [0.09639909],\n",
       "       [0.33085385]], dtype=float32)"
      ]
     },
     "execution_count": 25,
     "metadata": {},
     "output_type": "execute_result"
    }
   ],
   "source": [
    "y_log"
   ]
  },
  {
   "cell_type": "code",
   "execution_count": 26,
   "id": "77fc71bf",
   "metadata": {
    "execution": {
     "iopub.execute_input": "2025-07-26T04:45:19.280577Z",
     "iopub.status.busy": "2025-07-26T04:45:19.280231Z",
     "iopub.status.idle": "2025-07-26T04:45:19.284978Z",
     "shell.execute_reply": "2025-07-26T04:45:19.284097Z"
    },
    "papermill": {
     "duration": 0.057667,
     "end_time": "2025-07-26T04:45:19.286443",
     "exception": false,
     "start_time": "2025-07-26T04:45:19.228776",
     "status": "completed"
    },
    "tags": []
   },
   "outputs": [],
   "source": [
    "y_pred=np.where(y_log>0.5,1,0)"
   ]
  },
  {
   "cell_type": "code",
   "execution_count": 27,
   "id": "4d507c1e",
   "metadata": {
    "execution": {
     "iopub.execute_input": "2025-07-26T04:45:19.395707Z",
     "iopub.status.busy": "2025-07-26T04:45:19.395410Z",
     "iopub.status.idle": "2025-07-26T04:45:19.403701Z",
     "shell.execute_reply": "2025-07-26T04:45:19.402687Z"
    },
    "papermill": {
     "duration": 0.068333,
     "end_time": "2025-07-26T04:45:19.405849",
     "exception": false,
     "start_time": "2025-07-26T04:45:19.337516",
     "status": "completed"
    },
    "tags": []
   },
   "outputs": [
    {
     "data": {
      "text/plain": [
       "0.863"
      ]
     },
     "execution_count": 27,
     "metadata": {},
     "output_type": "execute_result"
    }
   ],
   "source": [
    "from sklearn.metrics import accuracy_score\n",
    "accuracy_score(y_test,y_pred)"
   ]
  },
  {
   "cell_type": "code",
   "execution_count": 28,
   "id": "f4ad27cc",
   "metadata": {
    "execution": {
     "iopub.execute_input": "2025-07-26T04:45:19.513119Z",
     "iopub.status.busy": "2025-07-26T04:45:19.512810Z",
     "iopub.status.idle": "2025-07-26T04:45:19.517060Z",
     "shell.execute_reply": "2025-07-26T04:45:19.516145Z"
    },
    "papermill": {
     "duration": 0.057515,
     "end_time": "2025-07-26T04:45:19.518704",
     "exception": false,
     "start_time": "2025-07-26T04:45:19.461189",
     "status": "completed"
    },
    "tags": []
   },
   "outputs": [],
   "source": [
    "import matplotlib.pyplot as plt"
   ]
  },
  {
   "cell_type": "code",
   "execution_count": 29,
   "id": "043a9757",
   "metadata": {
    "execution": {
     "iopub.execute_input": "2025-07-26T04:45:19.636353Z",
     "iopub.status.busy": "2025-07-26T04:45:19.636000Z",
     "iopub.status.idle": "2025-07-26T04:45:19.889347Z",
     "shell.execute_reply": "2025-07-26T04:45:19.888351Z"
    },
    "papermill": {
     "duration": 0.30975,
     "end_time": "2025-07-26T04:45:19.890906",
     "exception": false,
     "start_time": "2025-07-26T04:45:19.581156",
     "status": "completed"
    },
    "tags": []
   },
   "outputs": [
    {
     "data": {
      "text/plain": [
       "[<matplotlib.lines.Line2D at 0x7801d4fa74d0>]"
      ]
     },
     "execution_count": 29,
     "metadata": {},
     "output_type": "execute_result"
    },
    {
     "data": {
      "image/png": "[encoded data removed]",
      "text/plain": [
       "<Figure size 640x480 with 1 Axes>"
      ]
     },
     "metadata": {},
     "output_type": "display_data"
    }
   ],
   "source": [
    "plt.plot(history.history['loss'])\n",
    "plt.plot(history.history['val_loss'])"
   ]
  },
  {
   "cell_type": "code",
   "execution_count": 30,
   "id": "5fc2dfae",
   "metadata": {
    "execution": {
     "iopub.execute_input": "2025-07-26T04:45:19.993364Z",
     "iopub.status.busy": "2025-07-26T04:45:19.992955Z",
     "iopub.status.idle": "2025-07-26T04:45:19.997276Z",
     "shell.execute_reply": "2025-07-26T04:45:19.996464Z"
    },
    "papermill": {
     "duration": 0.057484,
     "end_time": "2025-07-26T04:45:19.998745",
     "exception": false,
     "start_time": "2025-07-26T04:45:19.941261",
     "status": "completed"
    },
    "tags": []
   },
   "outputs": [],
   "source": [
    "#Since after 90 epochs there is flat curve we are geeting there is no need to to to trian on more epochs  \n",
    "# so we can tarin our model on less epochs to get same result to save the time as well"
   ]
  },
  {
   "cell_type": "code",
   "execution_count": 31,
   "id": "9838e78d",
   "metadata": {
    "execution": {
     "iopub.execute_input": "2025-07-26T04:45:20.100576Z",
     "iopub.status.busy": "2025-07-26T04:45:20.099996Z",
     "iopub.status.idle": "2025-07-26T04:45:20.271398Z",
     "shell.execute_reply": "2025-07-26T04:45:20.270385Z"
    },
    "papermill": {
     "duration": 0.223959,
     "end_time": "2025-07-26T04:45:20.273013",
     "exception": false,
     "start_time": "2025-07-26T04:45:20.049054",
     "status": "completed"
    },
    "tags": []
   },
   "outputs": [
    {
     "data": {
      "text/plain": [
       "[<matplotlib.lines.Line2D at 0x7801d4e20f90>]"
      ]
     },
     "execution_count": 31,
     "metadata": {},
     "output_type": "execute_result"
    },
    {
     "data": {
      "image/png": "[encoded data removed]",
      "text/plain": [
       "<Figure size 640x480 with 1 Axes>"
      ]
     },
     "metadata": {},
     "output_type": "display_data"
    }
   ],
   "source": [
    "plt.plot(history.history['accuracy'])\n",
    "plt.plot(history.history['val_accuracy'])"
   ]
  },
  {
   "cell_type": "code",
   "execution_count": null,
   "id": "4cede744",
   "metadata": {
    "papermill": {
     "duration": 0.052986,
     "end_time": "2025-07-26T04:45:20.379574",
     "exception": false,
     "start_time": "2025-07-26T04:45:20.326588",
     "status": "completed"
    },
    "tags": []
   },
   "outputs": [],
   "source": []
  }
 ],
 "metadata": {
  "kaggle": {
   "accelerator": "none",
   "dataSources": [
    {
     "datasetId": 156197,
     "sourceId": 358170,
     "sourceType": "datasetVersion"
    }
   ],
   "dockerImageVersionId": 31089,
   "isGpuEnabled": false,
   "isInternetEnabled": false,
   "language": "python",
   "sourceType": "notebook"
  },
  "kernelspec": {
   "display_name": "Python 3",
   "language": "python",
   "name": "python3"
  },
  "language_info": {
   "codemirror_mode": {
    "name": "ipython",
    "version": 3
   },
   "file_extension": ".py",
   "mimetype": "text/x-python",
   "name": "python",
   "nbconvert_exporter": "python",
   "pygments_lexer": "ipython3",
   "version": "3.11.13"
  },
  "papermill": {
   "default_parameters": {},
   "duration": 80.18137,
   "end_time": "2025-07-26T04:45:23.422605",
   "environment_variables": {},
   "exception": null,
   "input_path": "__notebook__.ipynb",
   "output_path": "__notebook__.ipynb",
   "parameters": {},
   "start_time": "2025-07-26T04:44:03.241235",
   "version": "2.6.0"
  }
 },
 "nbformat": 4,
 "nbformat_minor": 5
}
